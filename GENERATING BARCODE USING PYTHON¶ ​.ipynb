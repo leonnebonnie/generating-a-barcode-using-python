{
 "cells": [
  {
   "cell_type": "markdown",
   "id": "1b3c5fb2",
   "metadata": {},
   "source": [
    "# GENERATING BARCODE USING PYTHON\n"
   ]
  },
  {
   "cell_type": "code",
   "execution_count": 1,
   "id": "42432322",
   "metadata": {},
   "outputs": [],
   "source": [
    "import barcode\n",
    "from barcode.writer import ImageWriter"
   ]
  },
  {
   "cell_type": "code",
   "execution_count": 11,
   "id": "32dbd7f6",
   "metadata": {},
   "outputs": [
    {
     "name": "stdout",
     "output_type": "stream",
     "text": [
      "Enter the code to generate barcode :987654321123\n"
     ]
    }
   ],
   "source": [
    "# defining thee content of the barcode as a string\n",
    "number= input(\"Enter the code to generate barcode :\")"
   ]
  },
  {
   "cell_type": "code",
   "execution_count": 18,
   "id": "1ac31d08",
   "metadata": {},
   "outputs": [],
   "source": [
    "# getting the required barcode format\n",
    "barcode_format=barcode.get_barcode_class('upc') # universal product code (upc)-used for groceries in USA"
   ]
  },
  {
   "cell_type": "code",
   "execution_count": 19,
   "id": "bcb3deb3",
   "metadata": {},
   "outputs": [],
   "source": [
    "# generating the barcode and rendering as image\n",
    "my_barcode=barcode_format(number, writer=ImageWriter())"
   ]
  },
  {
   "cell_type": "code",
   "execution_count": 20,
   "id": "a719dee0",
   "metadata": {},
   "outputs": [
    {
     "data": {
      "text/plain": [
       "'generated_barcode.png'"
      ]
     },
     "execution_count": 20,
     "metadata": {},
     "output_type": "execute_result"
    }
   ],
   "source": [
    "#saving the barcode as a PNG image\n",
    "my_barcode.save('generated_barcode')"
   ]
  },
  {
   "cell_type": "code",
   "execution_count": 21,
   "id": "180c5154",
   "metadata": {},
   "outputs": [
    {
     "data": {
      "image/png": "[encoded data removed]",
      "text/plain": [
       "<PIL.PngImagePlugin.PngImageFile image mode=RGB size=523x280 at 0x245099448E0>"
      ]
     },
     "execution_count": 21,
     "metadata": {},
     "output_type": "execute_result"
    }
   ],
   "source": [
    "from PIL import Image # to open image and show\n",
    "Image.open('generated_barcode.png')"
   ]
  },
  {
   "cell_type": "code",
   "execution_count": null,
   "id": "1609b43c",
   "metadata": {},
   "outputs": [],
   "source": []
  }
 ],
 "metadata": {
  "kernelspec": {
   "display_name": "Python 3 (ipykernel)",
   "language": "python",
   "name": "python3"
  },
  "language_info": {
   "codemirror_mode": {
    "name": "ipython",
    "version": 3
   },
   "file_extension": ".py",
   "mimetype": "text/x-python",
   "name": "python",
   "nbconvert_exporter": "python",
   "pygments_lexer": "ipython3",
   "version": "3.9.12"
  }
 },
 "nbformat": 4,
 "nbformat_minor": 5
}
